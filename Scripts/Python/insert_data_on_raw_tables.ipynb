{
 "cells": [
  {
   "cell_type": "code",
   "execution_count": 1,
   "metadata": {},
   "outputs": [],
   "source": [
    "import pandas as pd\r\n",
    "import pyodbc\r\n",
    "import conf as conf\r\n"
   ]
  },
  {
   "cell_type": "code",
   "execution_count": 2,
   "metadata": {},
   "outputs": [],
   "source": [
    "data = pd.read_csv(r'D:\\Projects\\AmeDigital_MySolution\\File\\base_de_respostas_10k_amostra.csv')\r\n",
    "\r\n",
    "df = pd.DataFrame(data, columns= ['Respondent', 'Hobby', 'OpenSource', 'Country', 'Student', 'Employment', 'FormalEducation', 'UndergradMajor', 'CompanySize', 'DevType', 'YearsCoding', 'YearsCodingProf', \\\r\n",
    "  'JobSatisfaction', 'CareerSatisfaction', 'HopeFiveYears', 'JobSearchStatus', 'LastNewJob', 'AssessJob1', 'AssessJob2', 'AssessJob3', 'AssessJob4', 'AssessJob5', 'AssessJob6', 'AssessJob7', 'AssessJob8', \\\r\n",
    "  'AssessJob9', 'AssessJob10', 'AssessBenefits1', 'AssessBenefits2', 'AssessBenefits3', 'AssessBenefits4', 'AssessBenefits5', 'AssessBenefits6', 'AssessBenefits7', 'AssessBenefits8', 'AssessBenefits9', \\\r\n",
    "  'AssessBenefits10', 'AssessBenefits11', 'JobContactPriorities1', 'JobContactPriorities2', 'JobContactPriorities3', 'JobContactPriorities4', 'JobContactPriorities5', 'JobEmailPriorities1', 'JobEmailPriorities2', \\\r\n",
    "  'JobEmailPriorities3', 'JobEmailPriorities4', 'JobEmailPriorities5', 'JobEmailPriorities6', 'JobEmailPriorities7', 'UpdateCV', 'Currency', 'Salary', 'SalaryType', 'ConvertedSalary', 'CurrencySymbol', 'CommunicationTools', \\\r\n",
    "  'TimeFullyProductive', 'EducationTypes', 'SelfTaughtTypes', 'TimeAfterBootcamp', 'HackathonReasons', 'AgreeDisagree1', 'AgreeDisagree2', 'AgreeDisagree3', 'LanguageWorkedWith', 'LanguageDesireNextYear', 'DatabaseWorkedWith', \\\r\n",
    "  'DatabaseDesireNextYear', 'PlatformWorkedWith', 'PlatformDesireNextYear', 'FrameworkWorkedWith', 'FrameworkDesireNextYear', 'IDE', 'OperatingSystem', 'NumberMonitors', 'Methodology', 'VersionControl', 'CheckInCode', 'AdBlocker', \\\r\n",
    "  'AdBlockerDisable', 'AdBlockerReasons', 'AdsAgreeDisagree1', 'AdsAgreeDisagree2', 'AdsAgreeDisagree3', 'AdsActions', 'AdsPriorities1', 'AdsPriorities2', 'AdsPriorities3', 'AdsPriorities4', 'AdsPriorities5', 'AdsPriorities6', 'AdsPriorities7', \\\r\n",
    "  'AIDangerous', 'AIInteresting', 'AIResponsible', 'AIFuture', 'EthicsChoice', 'EthicsReport', 'EthicsResponsible', 'EthicalImplications', 'StackOverflowRecommend', 'StackOverflowVisit', 'StackOverflowHasAccount', 'StackOverflowParticipate', \\\r\n",
    "  'StackOverflowJobs', 'StackOverflowDevStory', 'StackOverflowJobsRecommend', 'StackOverflowConsiderMember', 'HypotheticalTools1', 'HypotheticalTools2', 'HypotheticalTools3', 'HypotheticalTools4', 'HypotheticalTools5', 'WakeTime', 'HoursComputer', \\\r\n",
    "  'HoursOutside', 'SkipMeals', 'ErgonomicDevices', 'Exercise', 'Gender', 'SexualOrientation', 'EducationParents', 'RaceEthnicity', 'Age', 'Dependents', 'MilitaryUS', 'SurveyTooLong', 'SurveyEasy'])\r\n"
   ]
  },
  {
   "cell_type": "code",
   "execution_count": 3,
   "metadata": {},
   "outputs": [],
   "source": [
    "pd.set_option('max_columns', None)"
   ]
  },
  {
   "cell_type": "code",
   "execution_count": 4,
   "metadata": {},
   "outputs": [],
   "source": [
    "# Connection with database\r\n",
    "\r\n",
    "credentials = conf.credentials()\r\n",
    "\r\n",
    "server = credentials[0]\r\n",
    "database = credentials[1]\r\n",
    "username = credentials[2]\r\n",
    "password = credentials[3]\r\n",
    "cnxn = pyodbc.connect('DRIVER={SQL Server};SERVER='+server+';DATABASE='+database+';UID='+username+';PWD='+ password)\r\n",
    "cursor = cnxn.cursor()"
   ]
  },
  {
   "cell_type": "code",
   "execution_count": 5,
   "metadata": {},
   "outputs": [],
   "source": [
    "# Insert the data\r\n",
    "\r\n",
    "cursor = cnxn.cursor()\r\n",
    "\r\n",
    "# Limpa a tabela\r\n",
    "cursor.execute(\"TRUNCATE TABLE RawData.Respondent\")\r\n",
    "\r\n",
    "# Salário vazio ou com valor \"NA\" deve ser convertido para zero (0.0).\r\n",
    "\r\n",
    "df[\"Salary\"].fillna(\"0.0\", inplace=True)\r\n",
    "df[\"SalaryType\"].fillna(\"null\", inplace=True)\r\n",
    "df[\"ConvertedSalary\"].fillna(\"0.0\", inplace=True)\r\n",
    "df[\"CurrencySymbol\"].fillna(\"null\", inplace=True)\r\n",
    "df[\"OperatingSystem\"].fillna(\"null\", inplace=True)\r\n",
    "df[\"Country\"].fillna(\"null\", inplace=True)\r\n",
    "df[\"CompanySize\"].fillna(\"null\", inplace=True)\r\n",
    "df[\"CommunicationTools\"].fillna(\"null\", inplace=True)\r\n",
    "df[\"LanguageWorkedWith\"].fillna(\"null\", inplace=True)\r\n",
    "\r\n",
    "# Insert Dataframe into SQL Server:\r\n",
    "for index, row in df.iterrows():\r\n",
    "\r\n",
    "  cursor.execute(\"INSERT INTO RawData.Respondent (Respondent, OpenSource, Hobby, Salary, SalaryType, ConvertedSalary, CurrencySymbol, OperatingSystem, Country, CompanySize, CommunicationTools, LanguageWorkedWith) values (?, ?, ?, ?, ?, ?, ?, ?, ?, ?, ?, ?)\",\r\n",
    "  row.Respondent, row.OpenSource, row.Hobby, row.Salary, row.SalaryType, row.ConvertedSalary, row.CurrencySymbol, row.OperatingSystem, row.Country, row.CompanySize, row.CommunicationTools, row.LanguageWorkedWith)\r\n",
    "\r\n",
    "cnxn.commit()\r\n",
    "cursor.close()"
   ]
  }
 ],
 "metadata": {
  "interpreter": {
   "hash": "dfd368089e98125b5702217da794897554a2d4a8e08b6a2d25fad2c551a0423e"
  },
  "kernelspec": {
   "display_name": "Python 3.9.5 64-bit",
   "name": "python3"
  },
  "language_info": {
   "codemirror_mode": {
    "name": "ipython",
    "version": 3
   },
   "file_extension": ".py",
   "mimetype": "text/x-python",
   "name": "python",
   "nbconvert_exporter": "python",
   "pygments_lexer": "ipython3",
   "version": "3.9.5"
  },
  "orig_nbformat": 4
 },
 "nbformat": 4,
 "nbformat_minor": 2
}