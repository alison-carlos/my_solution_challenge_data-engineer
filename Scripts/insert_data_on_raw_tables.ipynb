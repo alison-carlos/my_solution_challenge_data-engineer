{
 "cells": [
  {
   "cell_type": "code",
   "execution_count": 1,
   "metadata": {},
   "outputs": [],
   "source": [
    "import pandas as pd\r\n",
    "import pyodbc"
   ]
  },
  {
   "cell_type": "code",
   "execution_count": 2,
   "metadata": {},
   "outputs": [],
   "source": [
    "data = pd.read_csv(r'D:\\Projects\\AmeDigital_MySolution\\File\\base_de_respostas_10k_amostra.csv')\r\n",
    "\r\n",
    "df = pd.DataFrame(data, columns= ['Respondent', 'Hobby', 'OpenSource', 'Country', 'Student', 'Employment', 'FormalEducation', 'UndergradMajor', 'CompanySize', 'DevType', 'YearsCoding', 'YearsCodingProf', \\\r\n",
    "  'JobSatisfaction', 'CareerSatisfaction', 'HopeFiveYears', 'JobSearchStatus', 'LastNewJob', 'AssessJob1', 'AssessJob2', 'AssessJob3', 'AssessJob4', 'AssessJob5', 'AssessJob6', 'AssessJob7', 'AssessJob8', \\\r\n",
    "  'AssessJob9', 'AssessJob10', 'AssessBenefits1', 'AssessBenefits2', 'AssessBenefits3', 'AssessBenefits4', 'AssessBenefits5', 'AssessBenefits6', 'AssessBenefits7', 'AssessBenefits8', 'AssessBenefits9', \\\r\n",
    "  'AssessBenefits10', 'AssessBenefits11', 'JobContactPriorities1', 'JobContactPriorities2', 'JobContactPriorities3', 'JobContactPriorities4', 'JobContactPriorities5', 'JobEmailPriorities1', 'JobEmailPriorities2', \\\r\n",
    "  'JobEmailPriorities3', 'JobEmailPriorities4', 'JobEmailPriorities5', 'JobEmailPriorities6', 'JobEmailPriorities7', 'UpdateCV', 'Currency', 'Salary', 'SalaryType', 'ConvertedSalary', 'CurrencySymbol', 'CommunicationTools', \\\r\n",
    "  'TimeFullyProductive', 'EducationTypes', 'SelfTaughtTypes', 'TimeAfterBootcamp', 'HackathonReasons', 'AgreeDisagree1', 'AgreeDisagree2', 'AgreeDisagree3', 'LanguageWorkedWith', 'LanguageDesireNextYear', 'DatabaseWorkedWith', \\\r\n",
    "  'DatabaseDesireNextYear', 'PlatformWorkedWith', 'PlatformDesireNextYear', 'FrameworkWorkedWith', 'FrameworkDesireNextYear', 'IDE', 'OperatingSystem', 'NumberMonitors', 'Methodology', 'VersionControl', 'CheckInCode', 'AdBlocker', \\\r\n",
    "  'AdBlockerDisable', 'AdBlockerReasons', 'AdsAgreeDisagree1', 'AdsAgreeDisagree2', 'AdsAgreeDisagree3', 'AdsActions', 'AdsPriorities1', 'AdsPriorities2', 'AdsPriorities3', 'AdsPriorities4', 'AdsPriorities5', 'AdsPriorities6', 'AdsPriorities7', \\\r\n",
    "  'AIDangerous', 'AIInteresting', 'AIResponsible', 'AIFuture', 'EthicsChoice', 'EthicsReport', 'EthicsResponsible', 'EthicalImplications', 'StackOverflowRecommend', 'StackOverflowVisit', 'StackOverflowHasAccount', 'StackOverflowParticipate', \\\r\n",
    "  'StackOverflowJobs', 'StackOverflowDevStory', 'StackOverflowJobsRecommend', 'StackOverflowConsiderMember', 'HypotheticalTools1', 'HypotheticalTools2', 'HypotheticalTools3', 'HypotheticalTools4', 'HypotheticalTools5', 'WakeTime', 'HoursComputer', \\\r\n",
    "  'HoursOutside', 'SkipMeals', 'ErgonomicDevices', 'Exercise', 'Gender', 'SexualOrientation', 'EducationParents', 'RaceEthnicity', 'Age', 'Dependents', 'MilitaryUS', 'SurveyTooLong', 'SurveyEasy'])\r\n"
   ]
  },
  {
   "cell_type": "code",
   "execution_count": 3,
   "metadata": {},
   "outputs": [],
   "source": [
    "pd.set_option('max_columns', None)"
   ]
  },
  {
   "cell_type": "code",
   "execution_count": 12,
   "metadata": {},
   "outputs": [],
   "source": [
    "# Connection with database\r\n",
    "\r\n",
    "server = 'DESKTOP-O45NRLD\\TEST' \r\n",
    "database = 'AmeDigital_Project' \r\n",
    "username = 'admin.amedigital' \r\n",
    "password = 'Am3D1g1T4L' \r\n",
    "cnxn = pyodbc.connect('DRIVER={SQL Server};SERVER='+server+';DATABASE='+database+';UID='+username+';PWD='+ password)\r\n",
    "cursor = cnxn.cursor()"
   ]
  },
  {
   "cell_type": "code",
   "execution_count": 27,
   "metadata": {},
   "outputs": [],
   "source": [
    "# Insert the data\r\n",
    "\r\n",
    "cursor = cnxn.cursor()\r\n",
    "\r\n",
    "# Limpa a tabela\r\n",
    "cursor.execute(\"TRUNCATE TABLE RawData.Respondent\")\r\n",
    "\r\n",
    "# Salário vazio ou com valor \"NA\" deve ser convertido para zero (0.0).\r\n",
    "\r\n",
    "df[\"Salary\"].fillna(\"0.0\", inplace=True)\r\n",
    "df[\"SalaryType\"].fillna(\"null\", inplace=True)\r\n",
    "df[\"ConvertedSalary\"].fillna(\"0.0\", inplace=True)\r\n",
    "df[\"CurrencySymbol\"].fillna(\"null\", inplace=True)\r\n",
    "df[\"OperatingSystem\"].fillna(\"null\", inplace=True)\r\n",
    "df[\"Country\"].fillna(\"null\", inplace=True)\r\n",
    "df[\"CompanySize\"].fillna(\"null\", inplace=True)\r\n",
    "\r\n",
    "# Insert Dataframe into SQL Server:\r\n",
    "for index, row in df.iterrows():\r\n",
    "#  print (row.Respondent, row.Hobby, row.OpenSource, row.Country, row.Student, row.Employment, row.FormalEducation, row.UndergradMajor, row.CompanySize, row.DevType, row.YearsCoding, row.YearsCodingProf, row.JobSatisfaction, row.CareerSatisfaction, row.HopeFiveYears, row.JobSearchStatus, row.LastNewJob, row.AssessJob1, row.AssessJob2, row.AssessJob3, row.AssessJob4, row.AssessJob5, row.AssessJob6, row.AssessJob7, row.AssessJob8, row.AssessJob9, row.AssessJob10, row.AssessBenefits1, row.AssessBenefits2, row.AssessBenefits3, row.AssessBenefits4, row.AssessBenefits5, row.AssessBenefits6, row.AssessBenefits7, row.AssessBenefits8, row.AssessBenefits9, row.AssessBenefits10, row.AssessBenefits11, row.JobContactPriorities1, row.JobContactPriorities2, row.JobContactPriorities3, row.JobContactPriorities4, row.JobContactPriorities5, row.JobEmailPriorities1, row.JobEmailPriorities2, row.JobEmailPriorities3, row.JobEmailPriorities4, row.JobEmailPriorities5, row.JobEmailPriorities6, row.JobEmailPriorities7, row.UpdateCV, row.Currency, row.Salary, row.SalaryType, row.ConvertedSalary, row.CurrencySymbol, row.CommunicationTools, row.TimeFullyProductive, row.EducationTypes, row.SelfTaughtTypes, row.TimeAfterBootcamp, row.HackathonReasons, row.AgreeDisagree1, row.AgreeDisagree2, row.AgreeDisagree3, row.LanguageWorkedWith, row.LanguageDesireNextYear, row.DatabaseWorkedWith, row.DatabaseDesireNextYear, row.PlatformWorkedWith, row.PlatformDesireNextYear, row.FrameworkWorkedWith, row.FrameworkDesireNextYear, row.IDE, row.OperatingSystem, row.NumberMonitors, row.Methodology, row.VersionControl, row.CheckInCode, row.AdBlocker, row.AdBlockerDisable, row.AdBlockerReasons, row.AdsAgreeDisagree1, row.AdsAgreeDisagree2, row.AdsAgreeDisagree3, row.AdsActions, row.AdsPriorities1, row.AdsPriorities2, row.AdsPriorities3, row.AdsPriorities4, row.AdsPriorities5, row.AdsPriorities6, row.AdsPriorities7, row.AIDangerous, row.AIInteresting, row.AIResponsible, row.AIFuture, row.EthicsChoice, row.EthicsReport, row.EthicsResponsible, row.EthicalImplications, row.StackOverflowRecommend, row.StackOverflowVisit, row.StackOverflowHasAccount, row.StackOverflowParticipate, row.StackOverflowJobs, row.StackOverflowDevStory, row.StackOverflowJobsRecommend, row.StackOverflowConsiderMember, row.HypotheticalTools1, row.HypotheticalTools2, row.HypotheticalTools3, row.HypotheticalTools4, row.HypotheticalTools5, row.WakeTime, row.HoursComputer, row.HoursOutside, row.SkipMeals, row.ErgonomicDevices, row.Exercise, row.Gender, row.SexualOrientation, row.EducationParents, row.RaceEthnicity, row.Age, row.Dependents, row.MilitaryUS, row.SurveyTooLong, row.SurveyEasy)\r\n",
    "\r\n",
    "  cursor.execute(\"INSERT INTO RawData.Respondent (Respondent, OpenSource, Hobby, Salary, SalaryType, ConvertedSalary, CurrencySymbol, OperatingSystem, Country, CompanySize) values (?, ?, ?, ?, ?, ?, ?, ?, ?, ?)\",\r\n",
    "  row.Respondent, row.OpenSource, row.Hobby, row.Salary, row.SalaryType, row.ConvertedSalary, row.CurrencySymbol, row.OperatingSystem, row.Country, row.CompanySize)\r\n",
    "\r\n",
    "cnxn.commit()\r\n",
    "cursor.close()"
   ]
  },
  {
   "cell_type": "code",
   "execution_count": null,
   "metadata": {},
   "outputs": [],
   "source": []
  }
 ],
 "metadata": {
  "interpreter": {
   "hash": "dfd368089e98125b5702217da794897554a2d4a8e08b6a2d25fad2c551a0423e"
  },
  "kernelspec": {
   "display_name": "Python 3.9.5 64-bit",
   "name": "python3"
  },
  "language_info": {
   "name": "python",
   "version": ""
  },
  "orig_nbformat": 4
 },
 "nbformat": 4,
 "nbformat_minor": 2
}